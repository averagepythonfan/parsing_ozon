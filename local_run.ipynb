{
 "cells": [
  {
   "cell_type": "markdown",
   "id": "267c549b-1280-4dff-917e-54a142f07b61",
   "metadata": {},
   "source": [
    "### Данный ноутбук нужно запускать только при поднятом детекторе (на сервере или локально)"
   ]
  },
  {
   "cell_type": "code",
   "execution_count": 1,
   "id": "074b6338-1041-42f1-b4ec-e507d3517aa0",
   "metadata": {},
   "outputs": [],
   "source": [
    "import re\n",
    "import asyncio\n",
    "import random\n",
    "import requests\n",
    "from playwright.async_api import async_playwright as pl"
   ]
  },
  {
   "cell_type": "code",
   "execution_count": 2,
   "id": "77c383dc-c299-4d21-8bb8-4965711e5cdd",
   "metadata": {},
   "outputs": [],
   "source": [
    "scroll_down = '''\n",
    "                                const scrollStep = 200; // Размер шага прокрутки (в пикселях)\n",
    "                                const scrollInterval = 100; // Интервал между шагами (в миллисекундах)\n",
    "\n",
    "                                const scrollHeight = document.documentElement.scrollHeight;\n",
    "                                let currentPosition = 0;\n",
    "                                const interval = setInterval(() => {\n",
    "                                    window.scrollBy(0, scrollStep);\n",
    "                                    currentPosition += scrollStep;\n",
    "\n",
    "                                    if (currentPosition >= scrollHeight) {\n",
    "                                        clearInterval(interval);\n",
    "                                    }\n",
    "                                }, scrollInterval);\n",
    "                            '''\n",
    "\n",
    "links = dict()"
   ]
  },
  {
   "cell_type": "code",
   "execution_count": 3,
   "id": "2a956b33-3fe5-4b2c-8fb2-99e3fc6eeac6",
   "metadata": {},
   "outputs": [],
   "source": [
    "async def parse_html(page):\n",
    "    \"\"\"Find all links in raw HTML by regular expression (re).\"\"\"\n",
    "\n",
    "    a_handle = await page.evaluate_handle(\"document.body\")\n",
    "    result_handle = await page.evaluate_handle(\"body => body.innerHTML\", a_handle)\n",
    "    html = str(await result_handle.json_value())\n",
    "    await result_handle.dispose()\n",
    "\n",
    "    find = \"https://ir.ozone.ru/s3/rp-photo-[0-9]/wc[0-9]00/.*?jpeg\"\n",
    "    vid = \"https://ir.ozone.ru/s3/video-.*?cover.jpg\"\n",
    "    pics = re.findall(find, html)\n",
    "    thumbnails = re.findall(vid, html)\n",
    "    \n",
    "    for el in pics:\n",
    "        hashed_pic = el[40:-5]\n",
    "        if links.get(hashed_pic):\n",
    "            continue\n",
    "        else:\n",
    "            links[hashed_pic] = el\n",
    "    \n",
    "    for el in thumbnails:\n",
    "        hashed_thumb = el[32:-22]\n",
    "        if links.get(hashed_thumb):\n",
    "            continue\n",
    "        else:\n",
    "            links[hashed_thumb] = el"
   ]
  },
  {
   "cell_type": "code",
   "execution_count": 4,
   "id": "73f0c674-6e0d-4482-9cec-c134ada143e1",
   "metadata": {},
   "outputs": [],
   "source": [
    "def clean_links(links: dict):\n",
    "    wc = [f\"/wc{i}00/\" for i in range(1, 10)]\n",
    "    for resolution in wc:\n",
    "        for link in links:\n",
    "            address = links[link]\n",
    "            if resolution in address:\n",
    "                links[link] = address.replace(resolution, \"/wc1200/\")\n",
    "    for el in links.copy():\n",
    "        if \"/wc1200/\" not in links[el]:\n",
    "            links.pop(el)\n",
    "    return links"
   ]
  },
  {
   "cell_type": "markdown",
   "id": "0388a69c-ffde-48fc-935d-9f75f4dfb92b",
   "metadata": {},
   "source": [
    "## Введите свой тг айди и артикул товара на Озоне\n",
    "Свой тг айди можно узнать здесь: https://t.me/getmyid_bot"
   ]
  },
  {
   "cell_type": "code",
   "execution_count": 16,
   "id": "11056675-069d-4dc9-9b87-be437b3b6f6c",
   "metadata": {},
   "outputs": [],
   "source": [
    "ARTICLE = \"артикул товара\"\n",
    "USER_ID = \"твой айди\"\n",
    "DETECTOR_URL = \"http://localhost:9090/model/detect\" #поменять на `localhost` на адресс сервера, если он поднят на сервере"
   ]
  },
  {
   "cell_type": "code",
   "execution_count": 9,
   "id": "8bda3358-2788-4ad3-af73-205f023aacde",
   "metadata": {},
   "outputs": [
    {
     "data": {
      "text/plain": [
       "<Response url='https://www.ozon.ru/product/711700590' request=<Request url='https://www.ozon.ru/product/711700590' method='GET'>>"
      ]
     },
     "execution_count": 9,
     "metadata": {},
     "output_type": "execute_result"
    }
   ],
   "source": [
    "pl_ctx = await pl().start()\n",
    "\n",
    "browser = await pl_ctx.firefox.launch(headless=True)\n",
    "context = await browser.new_context()\n",
    "page = await context.new_page()\n",
    "\n",
    "url = \"https://www.ozon.ru/product/\" + str(ARTICLE)\n",
    "\n",
    "await page.goto(url, wait_until=\"load\")"
   ]
  },
  {
   "cell_type": "code",
   "execution_count": 10,
   "id": "907e67be-d147-4090-a95a-21b9e271091c",
   "metadata": {},
   "outputs": [
    {
     "name": "stdout",
     "output_type": "stream",
     "text": [
      "Click on locator\n"
     ]
    }
   ],
   "source": [
    "try:\n",
    "    await page.evaluate(scroll_down)\n",
    "    await page.locator('div[style*=\"grid-template-columns: repeat(9, minmax(56px, 90px));\"]').click(delay=1)\n",
    "    \n",
    "    print(\"Click on locator\")\n",
    "    await asyncio.sleep(1)\n",
    "except:\n",
    "    await page.reload()\n",
    "    await asyncio.sleep(1.5)\n",
    "    \n",
    "    await page.evaluate(scroll_down)\n",
    "    await page.locator('div[style*=\"grid-template-columns: repeat(9, minmax(56px, 90px));\"]').click(delay=1)\n",
    "    \n",
    "    print(\"Click on locator\")\n",
    "    await asyncio.sleep(1)"
   ]
  },
  {
   "cell_type": "code",
   "execution_count": 11,
   "id": "0cf8488f-e3c5-45c0-a019-cb00e191a819",
   "metadata": {},
   "outputs": [
    {
     "name": "stdout",
     "output_type": "stream",
     "text": [
      "Earn 32 links\n",
      "Earn 32 links\n",
      "Earn 39 links\n",
      "Earn 47 links\n",
      "Earn 57 links\n",
      "Earn 68 links\n",
      "Earn 73 links\n",
      "Earn 85 links\n",
      "Earn 97 links\n",
      "Earn 107 links\n",
      "Earn 117 links\n",
      "Earn 127 links\n",
      "Earn 138 links\n",
      "Earn 149 links\n",
      "Earn 160 links\n",
      "Earn 171 links\n",
      "Earn 183 links\n",
      "Earn 192 links\n",
      "Earn 200 links\n",
      "Earn 210 links\n",
      "Earn 221 links\n",
      "Earn 229 links\n",
      "Earn 238 links\n",
      "Earn 241 links\n",
      "Earn 241 links\n",
      "Earn 241 links\n",
      "Earn 241 links\n",
      "Earn 241 links\n"
     ]
    }
   ],
   "source": [
    "counter = 0\n",
    "links_lenght = 0\n",
    "\n",
    "while True:\n",
    "    links_lenght = len(links)\n",
    "    await parse_html(page=page)\n",
    "    await page.keyboard.press(\"PageDown\", delay=0.8)\n",
    "    print(f\"Earn {len(links)+1} links\")\n",
    "    sleep = random.uniform(1.5, 3)\n",
    "    await asyncio.sleep(sleep)\n",
    "    if links_lenght == len(links):\n",
    "        counter +=1\n",
    "    else:\n",
    "        counter = 0\n",
    "    if counter > 3:\n",
    "        break"
   ]
  },
  {
   "cell_type": "markdown",
   "id": "f5f0058a-9102-4747-b6f1-8cfe77084ea6",
   "metadata": {},
   "source": [
    "### Если количество собранных ссылок сильно меньше количества обзоров на странице товара, то попробуйте перезапустить ячейку выше"
   ]
  },
  {
   "cell_type": "code",
   "execution_count": 12,
   "id": "e1a4dc69-c687-40c5-9b7c-d950b0a08da2",
   "metadata": {},
   "outputs": [],
   "source": [
    "await page.close()\n",
    "await pl_ctx.stop()"
   ]
  },
  {
   "cell_type": "code",
   "execution_count": 13,
   "id": "4ed143ae-4a09-4194-9d7c-33050396ea7e",
   "metadata": {},
   "outputs": [],
   "source": [
    "clean = clean_links(links)"
   ]
  },
  {
   "cell_type": "code",
   "execution_count": 14,
   "id": "fe36530a-f368-4204-89e4-df9a71aedf13",
   "metadata": {},
   "outputs": [
    {
     "data": {
      "text/plain": [
       "234"
      ]
     },
     "execution_count": 14,
     "metadata": {},
     "output_type": "execute_result"
    }
   ],
   "source": [
    "len(clean)"
   ]
  },
  {
   "cell_type": "code",
   "execution_count": 15,
   "id": "ed31fd13-d227-4275-aa1b-c893137f3fe5",
   "metadata": {},
   "outputs": [
    {
     "data": {
      "text/plain": [
       "<Response [200]>"
      ]
     },
     "execution_count": 15,
     "metadata": {},
     "output_type": "execute_result"
    }
   ],
   "source": [
    "requests.post(DETECTOR_URL, json={\"user_id\": USER_ID, \"images\": list(clean.values())})"
   ]
  },
  {
   "cell_type": "markdown",
   "id": "7ef3edfe-9101-497e-9e3f-d393be952a6d",
   "metadata": {},
   "source": [
    "### Можно не дожидаться выполнения верхней ячейки, а перейти в телеграм в диалог с ботом"
   ]
  }
 ],
 "metadata": {
  "kernelspec": {
   "display_name": "Python 3 (ipykernel)",
   "language": "python",
   "name": "python3"
  },
  "language_info": {
   "codemirror_mode": {
    "name": "ipython",
    "version": 3
   },
   "file_extension": ".py",
   "mimetype": "text/x-python",
   "name": "python",
   "nbconvert_exporter": "python",
   "pygments_lexer": "ipython3",
   "version": "3.10.11"
  }
 },
 "nbformat": 4,
 "nbformat_minor": 5
}
